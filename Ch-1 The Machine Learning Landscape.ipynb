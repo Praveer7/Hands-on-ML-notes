{
 "cells": [
  {
   "cell_type": "markdown",
   "metadata": {},
   "source": [
    "# Chapter-1\n",
    "\n",
    "# THE MACHINE LEARNING LANDSCAPE"
   ]
  },
  {
   "cell_type": "markdown",
   "metadata": {},
   "source": [
    "### Chapter Overview\n",
    "\n",
    "- What is ML?\n",
    "- Why use ML?\n",
    "- Types of ML systems\n",
    "    - Supervised v/s Unsupervised\n",
    "    - Online v/s Batch\n",
    "    - Instance-based v/s Model-based\n",
    "- Workflow of a typical ML project\n",
    "- Main challenges of ML\n",
    "- Testing & Validating (evaluate & fine-tune an ML system)"
   ]
  },
  {
   "cell_type": "markdown",
   "metadata": {},
   "source": [
    "## What is Machine Learning?\n",
    "(ML Definitions)"
   ]
  },
  {
   "cell_type": "markdown",
   "metadata": {},
   "source": [
    "1. ML is the science (art) of programming computers so they can learn from data.\n",
    "\n",
    "2. ML is the field of study that gives computers the ability to learn without being explicitly programmed. (Arthur Samuel, 1959)\n",
    "\n",
    "3. A computer program is said to learn from experience E with respect to some task T and some performance measure P, if its performance on T, as measured by P, improves with experience E. (Tom Mitchell, 1997)"
   ]
  },
  {
   "cell_type": "markdown",
   "metadata": {},
   "source": [
    "- **Training set**: The examples that the system uses to learn. \n",
    "- Each training example is called a **training instance (or sample)\n",
    "\n",
    "\n",
    "- In above definition:   \n",
    "**T** = task  \n",
    "**E** = experience = training data  \n",
    "**P** = performance measure to be defined (e.g: Accuracy)"
   ]
  },
  {
   "cell_type": "markdown",
   "metadata": {},
   "source": [
    "## Why use Machine Learning?"
   ]
  },
  {
   "cell_type": "markdown",
   "metadata": {},
   "source": [
    "- ML techniques make a task (like spam filter) much shorter, easier to maintain, and most likely more accurate than traditional programming technique.\n",
    "- ML techniques automatically adapt to change.\n",
    "- ML shines for problems that are either too complex for traditional approaches or have no known algorithm. e.g: speech recognition system.\n",
    "- ML can help humans learn (using data mining)"
   ]
  },
  {
   "cell_type": "markdown",
   "metadata": {},
   "source": [
    "- **Data Mining**: Applying ML techniques to dig into large amounts of data in order to discover patterns that were not immediately apparent."
   ]
  },
  {
   "cell_type": "markdown",
   "metadata": {},
   "source": [
    "#### In summary, ML is great for:\n",
    "1. Problems for which existing solutions require a lot of hand-tuning or long lists of rules. ML algorithm can simplify the code and perform better.\n",
    "2. Complex problems for which there is no good solution at all using a traditional approach. The best ML techniques can find a solution in such cases.\n",
    "3. Fluctuating environments: an ML system can adapt to new data.\n",
    "4. Getting insights about complex problems and large amounts of data."
   ]
  },
  {
   "cell_type": "markdown",
   "metadata": {},
   "source": [
    "## Types of Machine Learning Systems"
   ]
  },
  {
   "cell_type": "markdown",
   "metadata": {},
   "source": [
    "ML systems can be broadly classified based on:\n",
    "1. whether or not they are trained with human supervision (supervised, unsupervised, semi-supervised and reinforcement learning)\n",
    "\n",
    "2. whether or not they can learn incrementally on the fly (online v/s batch learning)\n",
    "\n",
    "3. whether they work by simply computing new data points to known data points, or instead detect patterns in the training data and build a predictive model (instance-based v/s model-based learning)"
   ]
  },
  {
   "cell_type": "markdown",
   "metadata": {},
   "source": [
    "- Above criteria can be combined in any way you like."
   ]
  },
  {
   "cell_type": "markdown",
   "metadata": {},
   "source": [
    "### Supervised / Unsupervised Learning"
   ]
  },
  {
   "cell_type": "markdown",
   "metadata": {},
   "source": [
    "- ML systems can be classified based on the **amount and type of supervision they get during training**\n",
    "- There are four major categories:"
   ]
  },
  {
   "cell_type": "markdown",
   "metadata": {},
   "source": [
    "#### 1. Supervised Learning"
   ]
  },
  {
   "cell_type": "markdown",
   "metadata": {},
   "source": [
    "- The training data you feed to the algorithm includes the desired solutions, called **Labels**.\n",
    "- Given a set of **features**, the typical supervised learning tasks are:\n",
    "> - Classification: to classify, e.g: spam filter\n",
    "> - Regression: to predict a target numeric value, e.g: price of car"
   ]
  },
  {
   "cell_type": "markdown",
   "metadata": {},
   "source": [
    "#### Difference between 'attribute' and 'feature' in ML\n",
    "\n",
    "- An **attribute** is a data type, e.g: Mileage\n",
    "- A **feature** generally means an attribute plus its value, e.g: Mileage = 15,000\n",
    "- But these two words are used interchangeably by many people"
   ]
  },
  {
   "cell_type": "markdown",
   "metadata": {},
   "source": [
    "Some important supervised learning algorithms\n",
    "- k-Nearest Neighbours\n",
    "- Linear Regression\n",
    "- Logistic Regression\n",
    "- Support Vector Machines (SVMs)\n",
    "- Decision Trees and Random Forests\n",
    "- Neural Networks (exception: Autoencoders)\n",
    "\n",
    "> Exceptions:  \n",
    "> Unsupervised Neural Network architectures\n",
    "> - Autoencoders\n",
    "> - Restricted Boltzmann machines\n",
    "\n",
    "\n",
    "> Semisupervised Neural Network architectures\n",
    "> - Deep Belief networks\n",
    "> - Unsupervised pretraining"
   ]
  },
  {
   "cell_type": "markdown",
   "metadata": {},
   "source": [
    "#### 2. Unsupervised Learning"
   ]
  },
  {
   "cell_type": "markdown",
   "metadata": {},
   "source": [
    "- The training data is **unlabeled**.\n",
    "- The system tries to learn without a teacher."
   ]
  },
  {
   "cell_type": "markdown",
   "metadata": {},
   "source": [
    "Some important unsupervised learning algorithms\n",
    "- Clustering\n",
    "> - K-Means\n",
    "> - DBSCAN\n",
    "> - Hierarchical Cluster Analysis (HCA)\n",
    "\n",
    "\n",
    "- Anomaly detection and novelty detection\n",
    "> - One-class SVM\n",
    "> - Isolation forest\n",
    "\n",
    "\n",
    "- Visualization and dimensionality reduction\n",
    "> - Principal Component Analysis (PCA)\n",
    "> - Kernel PCA\n",
    "> - Locally-Linear Embedding (LLE)\n",
    "> - t-distributed Stochastic Neighbor Embedding (t-SNE)\n",
    "\n",
    "\n",
    "- Association rule learning\n",
    "> - Apriori\n",
    "> - Eclat"
   ]
  },
  {
   "cell_type": "markdown",
   "metadata": {},
   "source": [
    "- **Clustering algorithm** tries to detect groups of similar observations.\n",
    "- **Hierarchical clustering algorithm** subdivides each group into smaller groups.\n",
    "- **Visualization algorithms** take a lot of complex and unlabeled data, and they output a 2D or 3D representation of your data that can easily be plotted.\n",
    "- In **Dimensionality Reduction**, the goal is to simplify the data without losing too much information.\n",
    "> - One way to do this is **Feature Extraction**: to merge several correlated features into one.\n",
    "> - If we reduce dimensions of training data before feeding it into an ML algorithm, it will run much faster, data will take up less disk and memory space, and the algorithm may perform better.\n",
    "\n",
    "- **Anomaly Detection**: Example: detecting unusual credit card transactions to prevent fraud. Here, system is shown normal instances during training > it learns to recognize them > when it sees a new instance, it can tell whether it looks normal or is a likely anomaly.\n",
    "\n",
    "- **Novelty Detection**: Such algorithms expect to see only normal data during training while anomaly detection algorithms are usually more tolerant.\n",
    "\n",
    "- **Association Rule Learning**: the goal here is to dig into large amounts of data and discover interesting relations between attributes."
   ]
  },
  {
   "cell_type": "markdown",
   "metadata": {},
   "source": [
    "#### 3. Semisupervised Learning"
   ]
  },
  {
   "cell_type": "markdown",
   "metadata": {},
   "source": [
    "- Learning with algorithms that can deal with partially labeled training data, usually a lot of unlabeled data and a little bit of labeled data.\n",
    "- Most semisupervised learning algorithms are combinations of unsupervised and supervised algorithms. e.g: ***Deep Belief Networks (DBNs)*** are based on unsupervised components called ***Boltzmann machines (RBMs)*** stacked on top of one another."
   ]
  },
  {
   "cell_type": "markdown",
   "metadata": {},
   "source": [
    "#### 4. Reinforcement Learning"
   ]
  },
  {
   "cell_type": "markdown",
   "metadata": {},
   "source": [
    "- The learning system - **agent** - can observe the environment, select and perform actions, and get **rewards** in return - or **penalties** in the form of negative rewards\n",
    "- Then, it learns by itself what is best strategy - **policy** - to get the most reward over time.\n",
    "- A **policy** defines what action the **agent** should choose when it is in a given situation."
   ]
  },
  {
   "cell_type": "markdown",
   "metadata": {},
   "source": [
    "### Batch and Online Learning"
   ]
  },
  {
   "cell_type": "markdown",
   "metadata": {},
   "source": [
    "- ML systems can also be classified based on **whether or not the system can learn incrementally from a stream of incoming data**"
   ]
  },
  {
   "cell_type": "markdown",
   "metadata": {},
   "source": [
    "#### 1. Batch Learning (or Offline Learning)"
   ]
  },
  {
   "cell_type": "markdown",
   "metadata": {},
   "source": [
    "- In this, the system is capable of learning incrementally\n",
    "- It must be trained using all the available data\n",
    "- This takes a lot of time and computing resources, so it is typically done offline.\n",
    "- First the system is trained > then launched into production and runs without learning anymore > it just applies what it has learned."
   ]
  },
  {
   "cell_type": "markdown",
   "metadata": {},
   "source": [
    "- To update a batch learning system > you need to train a new version of the system from scratch on the full dataset > then stop the old system and replace it"
   ]
  },
  {
   "cell_type": "markdown",
   "metadata": {},
   "source": [
    "#### Limitations of Batch Learning\n",
    "\n",
    "- If your system needs to adapt to rapidly changing data, then you need a more reactive solution than batch learning.\n",
    "\n",
    "- If amount of data is huge, it may even be impossible to use a batch learning algorithm.\n",
    "\n",
    "- If the system needs to learn autonomously and it has limited resources > like smartphone app > then it is impractical to carry around large amounts of training data and take up a lot of resources to train for hours every day"
   ]
  },
  {
   "cell_type": "markdown",
   "metadata": {},
   "source": [
    "> Solution is incremental learning (online learning)"
   ]
  },
  {
   "cell_type": "markdown",
   "metadata": {},
   "source": [
    "#### 2. Online Learning (or Incremental Learning)"
   ]
  },
  {
   "cell_type": "markdown",
   "metadata": {},
   "source": []
  },
  {
   "cell_type": "markdown",
   "metadata": {},
   "source": []
  }
 ],
 "metadata": {
  "kernelspec": {
   "display_name": "Python 3",
   "language": "python",
   "name": "python3"
  },
  "language_info": {
   "codemirror_mode": {
    "name": "ipython",
    "version": 3
   },
   "file_extension": ".py",
   "mimetype": "text/x-python",
   "name": "python",
   "nbconvert_exporter": "python",
   "pygments_lexer": "ipython3",
   "version": "3.8.3"
  }
 },
 "nbformat": 4,
 "nbformat_minor": 4
}
