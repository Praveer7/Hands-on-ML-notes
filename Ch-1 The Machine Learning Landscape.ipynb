{
 "cells": [
  {
   "cell_type": "markdown",
   "metadata": {},
   "source": [
    "# Chapter-1\n",
    "\n",
    "# THE MACHINE LEARNING LANDSCAPE"
   ]
  },
  {
   "cell_type": "markdown",
   "metadata": {},
   "source": [
    "### Chapter Overview\n",
    "\n",
    "- What is ML?\n",
    "- Why use ML?\n",
    "- Types of ML systems\n",
    "    - Supervised v/s Unsupervised\n",
    "    - Online v/s Batch\n",
    "    - Instance-based v/s Model-based\n",
    "- Workflow of a typical ML project\n",
    "- Main challenges of ML\n",
    "- Testing & Validating (evaluate & fine-tune an ML system)"
   ]
  },
  {
   "cell_type": "markdown",
   "metadata": {},
   "source": [
    "## What is Machine Learning?\n",
    "(ML Definitions)"
   ]
  },
  {
   "cell_type": "markdown",
   "metadata": {},
   "source": [
    "1. ML is the science (art) of programming computers so they can learn from data.\n",
    "\n",
    "2. ML is the field of study that gives computers the ability to learn without being explicitly programmed. (Arthur Samuel, 1959)\n",
    "\n",
    "3. A computer program is said to learn from experience E with respect to some task T and some performance measure P, if its performance on T, as measured by P, improves with experience E. (Tom Mitchell, 1997)"
   ]
  },
  {
   "cell_type": "markdown",
   "metadata": {},
   "source": [
    "- **Training set**: The examples that the system uses to learn. \n",
    "- Each training example is called a **training instance (or sample)\n",
    "\n",
    "\n",
    "- In above definition:   \n",
    "**T** = task  \n",
    "**E** = experience = training data  \n",
    "**P** = performance measure to be defined (e.g: Accuracy)"
   ]
  },
  {
   "cell_type": "markdown",
   "metadata": {},
   "source": [
    "## Why use Machine Learning?"
   ]
  },
  {
   "cell_type": "markdown",
   "metadata": {},
   "source": [
    "- ML techniques make a task (like spam filter) much shorter, easier to maintain, and most likely more accurate than traditional programming technique.\n",
    "- ML techniques automatically adapt to change.\n",
    "- ML shines for problems that are either too complex for traditional approaches or have no known algorithm. e.g: speech recognition system.\n",
    "- ML can help humans learn (using data mining)"
   ]
  },
  {
   "cell_type": "markdown",
   "metadata": {},
   "source": [
    "- **Data Mining**: Applying ML techniques to dig into large amounts of data in order to discover patterns that were not immediately apparent."
   ]
  },
  {
   "cell_type": "markdown",
   "metadata": {},
   "source": [
    "#### In summary, ML is great for:\n",
    "1. Problems for which existing solutions require a lot of hand-tuning or long lists of rules. ML algorithm can simplify the code and perform better.\n",
    "2. Complex problems for which there is no good solution at all using a traditional approach. The best ML techniques can find a solution in such cases.\n",
    "3. Fluctuating environments: an ML system can adapt to new data.\n",
    "4. Getting insights about complex problems and large amounts of data."
   ]
  },
  {
   "cell_type": "markdown",
   "metadata": {},
   "source": [
    "## Types of Machine Learning Systems"
   ]
  },
  {
   "cell_type": "markdown",
   "metadata": {},
   "source": [
    "ML systems can be broadly classified based on:\n",
    "1. whether or not they are trained with human supervision (supervised, unsupervised, semi-supervised and reinforcement learning)\n",
    "\n",
    "2. whether or not they can learn incrementally on the fly (online v/s batch learning)\n",
    "\n",
    "3. whether they work by simply computing new data points to known data points, or instead detect patterns in the training data and build a predictive model (instance-based v/s model-based learning)"
   ]
  },
  {
   "cell_type": "markdown",
   "metadata": {},
   "source": [
    "- Above criteria can be combined in any way you like."
   ]
  },
  {
   "cell_type": "markdown",
   "metadata": {},
   "source": [
    "### Supervised / Unsupervised Learning"
   ]
  },
  {
   "cell_type": "markdown",
   "metadata": {},
   "source": [
    "- ML systems can be classified based on the **amount and type of supervision they get during training**\n",
    "- There are four major categories:"
   ]
  },
  {
   "cell_type": "markdown",
   "metadata": {},
   "source": [
    "#### 1. Supervised Learning"
   ]
  },
  {
   "cell_type": "markdown",
   "metadata": {},
   "source": [
    "- The training data you feed to the algorithm includes the desired solutions, called **Labels**.\n",
    "- Given a set of **features**, the typical supervised learning tasks are:\n",
    "> - Classification: to classify, e.g: spam filter\n",
    "> - Regression: to predict a target numeric value, e.g: price of car"
   ]
  },
  {
   "cell_type": "markdown",
   "metadata": {},
   "source": [
    "#### Difference between 'attribute' and 'feature' in ML\n",
    "\n",
    "- An **attribute** is a data type, e.g: Mileage\n",
    "- A **feature** generally means an attribute plus its value, e.g: Mileage = 15,000\n",
    "- But these two words are used interchangeably by many people"
   ]
  },
  {
   "cell_type": "markdown",
   "metadata": {},
   "source": [
    "Some important supervised learning algorithms\n",
    "- k-Nearest Neighbours\n",
    "- Linear Regression\n",
    "- Logistic Regression\n",
    "- Support Vector Machines (SVMs)\n",
    "- Decision Trees and Random Forests\n",
    "- Neural Networks (exception: Autoencoders)\n",
    "\n",
    "> Exceptions:  \n",
    "> Unsupervised Neural Network architectures\n",
    "> - Autoencoders\n",
    "> - Restricted Boltzmann machines\n",
    "\n",
    "\n",
    "> Semisupervised Neural Network architectures\n",
    "> - Deep Belief networks\n",
    "> - Unsupervised pretraining"
   ]
  },
  {
   "cell_type": "markdown",
   "metadata": {},
   "source": [
    "#### 2. Unsupervised Learning"
   ]
  },
  {
   "cell_type": "markdown",
   "metadata": {},
   "source": [
    "- The training data is **unlabeled**.\n",
    "- The system tries to learn without a teacher."
   ]
  },
  {
   "cell_type": "markdown",
   "metadata": {},
   "source": [
    "Some important unsupervised learning algorithms\n",
    "- Clustering\n",
    "> - K-Means\n",
    "> - DBSCAN\n",
    "> - Hierarchical Cluster Analysis (HCA)\n",
    "\n",
    "\n",
    "- Anomaly detection and novelty detection\n",
    "> - One-class SVM\n",
    "> - Isolation forest\n",
    "\n",
    "\n",
    "- Visualization and dimensionality reduction\n",
    "> - Principal Component Analysis (PCA)\n",
    "> - Kernel PCA\n",
    "> - Locally-Linear Embedding (LLE)\n",
    "> - t-distributed Stochastic Neighbor Embedding (t-SNE)\n",
    "\n",
    "\n",
    "- Association rule learning\n",
    "> - Apriori\n",
    "> - Eclat"
   ]
  },
  {
   "cell_type": "markdown",
   "metadata": {},
   "source": [
    "- **Clustering algorithm** tries to detect groups of similar observations.\n",
    "- **Hierarchical clustering algorithm** subdivides each group into smaller groups.\n",
    "- **Visualization algorithms** take a lot of complex and unlabeled data, and they output a 2D or 3D representation of your data that can easily be plotted.\n",
    "- In **Dimensionality Reduction**, the goal is to simplify the data without losing too much information.\n",
    "> - One way to do this is **Feature Extraction**: to merge several correlated features into one.\n",
    "> - If we reduce dimensions of training data before feeding it into an ML algorithm, it will run much faster, data will take up less disk and memory space, and the algorithm may perform better.\n",
    "\n",
    "- **Anomaly Detection**: Example: detecting unusual credit card transactions to prevent fraud. Here, system is shown normal instances during training > it learns to recognize them > when it sees a new instance, it can tell whether it looks normal or is a likely anomaly.\n",
    "\n",
    "- **Novelty Detection**: Such algorithms expect to see only normal data during training while anomaly detection algorithms are usually more tolerant.\n",
    "\n",
    "- **Association Rule Learning**: the goal here is to dig into large amounts of data and discover interesting relations between attributes."
   ]
  },
  {
   "cell_type": "markdown",
   "metadata": {},
   "source": [
    "#### 3. Semisupervised Learning"
   ]
  },
  {
   "cell_type": "markdown",
   "metadata": {},
   "source": [
    "- Learning with algorithms that can deal with partially labeled training data, usually a lot of unlabeled data and a little bit of labeled data.\n",
    "- Most semisupervised learning algorithms are combinations of unsupervised and supervised algorithms. e.g: ***Deep Belief Networks (DBNs)*** are based on unsupervised components called ***Boltzmann machines (RBMs)*** stacked on top of one another."
   ]
  },
  {
   "cell_type": "markdown",
   "metadata": {},
   "source": [
    "#### 4. Reinforcement Learning"
   ]
  },
  {
   "cell_type": "markdown",
   "metadata": {},
   "source": [
    "- The learning system - **agent** - can observe the environment, select and perform actions, and get **rewards** in return - or **penalties** in the form of negative rewards\n",
    "- Then, it learns by itself what is best strategy - **policy** - to get the most reward over time.\n",
    "- A **policy** defines what action the **agent** should choose when it is in a given situation."
   ]
  },
  {
   "cell_type": "markdown",
   "metadata": {},
   "source": [
    "### Batch and Online Learning"
   ]
  },
  {
   "cell_type": "markdown",
   "metadata": {},
   "source": [
    "- ML systems can also be classified based on **whether or not the system can learn incrementally from a stream of incoming data**"
   ]
  },
  {
   "cell_type": "markdown",
   "metadata": {},
   "source": [
    "#### 1. Batch Learning (or Offline Learning)"
   ]
  },
  {
   "cell_type": "markdown",
   "metadata": {},
   "source": [
    "- In this, the system is capable of learning incrementally\n",
    "- It must be trained using all the available data\n",
    "- This takes a lot of time and computing resources, so it is typically done offline.\n",
    "- First the system is trained > then launched into production and runs without learning anymore > it just applies what it has learned."
   ]
  },
  {
   "cell_type": "markdown",
   "metadata": {},
   "source": [
    "- To update a batch learning system > you need to train a new version of the system from scratch on the full dataset > then stop the old system and replace it"
   ]
  },
  {
   "cell_type": "markdown",
   "metadata": {},
   "source": [
    "#### Limitations of Batch Learning\n",
    "\n",
    "- If your system needs to adapt to rapidly changing data, then you need a more reactive solution than batch learning.\n",
    "\n",
    "- If amount of data is huge, it may even be impossible to use a batch learning algorithm.\n",
    "\n",
    "- If the system needs to learn autonomously and it has limited resources > like smartphone app > then it is impractical to carry around large amounts of training data and take up a lot of resources to train for hours every day"
   ]
  },
  {
   "cell_type": "markdown",
   "metadata": {},
   "source": [
    "> Solution is incremental learning (online learning)"
   ]
  },
  {
   "cell_type": "markdown",
   "metadata": {},
   "source": [
    "#### 2. Online Learning (or Incremental Learning)"
   ]
  },
  {
   "cell_type": "markdown",
   "metadata": {},
   "source": [
    "- In this, you train the system incrementally by feeding it data instances sequentially, either individually or by small groups called ***mini-bacthes***.\n",
    "- Each learning step is ***fast*** and ***cheap***.\n",
    "- Online learning is applicable in following cases:\n",
    "    - systems that receive data as a continuous flow (e.g: stock prices) and need to adapt to change rapidly or autonomously\n",
    "    - systems having limited computing resources\n",
    "    - **out-of-core** learning: training system on huge datasets that cannot fit in one machine's main memory > here, the algorithm loads part of the data, runs a training step on the data and repeats process until it has run on all of the data"
   ]
  },
  {
   "cell_type": "markdown",
   "metadata": {},
   "source": [
    "**Learning Rate**: an important parameter of inline learning systems indicating how fast they should adapt to changing data\n",
    "- Setting a **high learning rate**: system will rapidly adapt to new data, but it will also tend to quickly forget the old data\n",
    "- Setting a **low learning rate**: system will learn more slowly, but it will also be less sensitive to noise in the new data or outliers"
   ]
  },
  {
   "cell_type": "markdown",
   "metadata": {},
   "source": [
    "**Drawback of Online Learning**\n",
    "\n",
    "- If bad data is fed to the system, the system's performance will gradually decline.\n",
    "- **To overcome** this, monitor your system closely and promptly switch learning off if you detect a drop in performance. Also, monitor input data and react to abnormal data."
   ]
  },
  {
   "cell_type": "markdown",
   "metadata": {},
   "source": [
    "### Instance-based v/s Model-based Learning"
   ]
  },
  {
   "cell_type": "markdown",
   "metadata": {},
   "source": [
    "- ML systems can also be classified by **how they generalize**.\n",
    "- There are two main approaches to generalization:"
   ]
  },
  {
   "cell_type": "markdown",
   "metadata": {},
   "source": [
    "#### 1. Instance-based learning"
   ]
  },
  {
   "cell_type": "markdown",
   "metadata": {},
   "source": [
    "- **Similarity measure**: a similarity measure betwen two e-mails could be to count the number of words they have in common. System would flag an email as spam if it has many words in common with a known spam email.\n",
    "\n",
    "- In instance-based learning, the system learns the examples by heart, then generalizes to new cases by comparing them to the learned examples using a similarity measure"
   ]
  },
  {
   "cell_type": "markdown",
   "metadata": {},
   "source": [
    "#### 2. Model-based learning"
   ]
  },
  {
   "cell_type": "markdown",
   "metadata": {},
   "source": [
    "- Another way to generalize from a set of examples is -> to build a model of these examples and then use that model to make predictions. \n",
    "- **Example**: Suppose we want to know if money makes people happy. For this, we model life statisfaction as a linear function of GDP per capita (***model selection***) \n",
    "\n",
    "- Equation of a simple linear model\n",
    "\n",
    "> **life_statisfaction = $θ_0$ + $θ_1$ * GDP_per_capita**"
   ]
  },
  {
   "cell_type": "markdown",
   "metadata": {},
   "source": [
    "- By tweaking the parameters $θ_0$ and $θ_1$, the model can be made to represent any linear function\n",
    "- First, we need to decide on best values of $θ_0$ and $θ_1$\n",
    "- To do this, we can define\n",
    "    - a ***utility (or fitness) function*** that measures how `good` our model is, or\n",
    "    - a ***cost function*** that measures how `bad` our model is\n",
    "\n",
    "-For Linear regression, a **cost function** is generally used that measures distance between the model's predictions and the training examples. The objective is to minimize this distance.\n",
    "- **-Training the model**: We train the Linear Regression algorithm to the training examples and it finds the parameters that make the linear model fit best to our data.\n"
   ]
  },
  {
   "cell_type": "markdown",
   "metadata": {},
   "source": [
    "### Python Code: Training and running a linear model using Scikit-Learn"
   ]
  },
  {
   "cell_type": "markdown",
   "metadata": {},
   "source": [
    "This function just merges the OECD's life satisfaction data and the IMF's GDP per capita data."
   ]
  },
  {
   "cell_type": "code",
   "execution_count": 1,
   "metadata": {},
   "outputs": [],
   "source": [
    "def prepare_country_stats(oecd_bli, gdp_per_capita):\n",
    "    oecd_bli = oecd_bli[oecd_bli[\"INEQUALITY\"]==\"TOT\"]\n",
    "    oecd_bli = oecd_bli.pivot(index=\"Country\", columns=\"Indicator\", values=\"Value\")\n",
    "    gdp_per_capita.rename(columns={\"2015\": \"GDP per capita\"}, inplace=True)\n",
    "    gdp_per_capita.set_index(\"Country\", inplace=True)\n",
    "    full_country_stats = pd.merge(left=oecd_bli, right=gdp_per_capita,\n",
    "                                  left_index=True, right_index=True)\n",
    "    full_country_stats.sort_values(by=\"GDP per capita\", inplace=True)\n",
    "    remove_indices = [0, 1, 6, 8, 33, 34, 35]\n",
    "    keep_indices = list(set(range(36)) - set(remove_indices))\n",
    "    return full_country_stats[[\"GDP per capita\", 'Life satisfaction']].iloc[keep_indices]"
   ]
  },
  {
   "cell_type": "markdown",
   "metadata": {},
   "source": [
    "The code in the book expects the data files to be located in the current directory. I just tweaked it here to fetch the files in datasets/lifesat."
   ]
  },
  {
   "cell_type": "code",
   "execution_count": 2,
   "metadata": {},
   "outputs": [],
   "source": [
    "import os\n",
    "datapath = os.path.join(\"datasets\", \"lifesat\", \"\")"
   ]
  },
  {
   "cell_type": "code",
   "execution_count": 3,
   "metadata": {},
   "outputs": [],
   "source": [
    "# To plot pretty figures directly within Jupyter\n",
    "%matplotlib inline\n",
    "import matplotlib as mpl\n",
    "mpl.rc('axes', labelsize=14)\n",
    "mpl.rc('xtick', labelsize=12)\n",
    "mpl.rc('ytick', labelsize=12)"
   ]
  },
  {
   "cell_type": "code",
   "execution_count": 4,
   "metadata": {},
   "outputs": [
    {
     "name": "stdout",
     "output_type": "stream",
     "text": [
      "Downloading oecd_bli_2015.csv\n",
      "Downloading gdp_per_capita.csv\n"
     ]
    }
   ],
   "source": [
    "# Download the data\n",
    "import urllib.request\n",
    "DOWNLOAD_ROOT = \"https://raw.githubusercontent.com/ageron/handson-ml2/master/\"\n",
    "os.makedirs(datapath, exist_ok=True)\n",
    "for filename in (\"oecd_bli_2015.csv\", \"gdp_per_capita.csv\"):\n",
    "    print(\"Downloading\", filename)\n",
    "    url = DOWNLOAD_ROOT + \"datasets/lifesat/\" + filename\n",
    "    urllib.request.urlretrieve(url, datapath + filename)"
   ]
  },
  {
   "cell_type": "code",
   "execution_count": 5,
   "metadata": {},
   "outputs": [
    {
     "data": {
      "image/png": "[encoded data removed]",
      "text/plain": [
       "<Figure size 432x288 with 1 Axes>"
      ]
     },
     "metadata": {
      "needs_background": "light"
     },
     "output_type": "display_data"
    },
    {
     "name": "stdout",
     "output_type": "stream",
     "text": [
      "[[5.96242338]]\n"
     ]
    }
   ],
   "source": [
    "# Code example\n",
    "import matplotlib.pyplot as plt\n",
    "import numpy as np\n",
    "import pandas as pd\n",
    "import sklearn.linear_model\n",
    "\n",
    "# Load the data\n",
    "oecd_bli = pd.read_csv(datapath + \"oecd_bli_2015.csv\", thousands=',')\n",
    "gdp_per_capita = pd.read_csv(datapath + \"gdp_per_capita.csv\",thousands=',',delimiter='\\t',\n",
    "                             encoding='latin1', na_values=\"n/a\")\n",
    "\n",
    "# Prepare the data\n",
    "country_stats = prepare_country_stats(oecd_bli, gdp_per_capita)\n",
    "X = np.c_[country_stats[\"GDP per capita\"]]\n",
    "y = np.c_[country_stats[\"Life satisfaction\"]]\n",
    "\n",
    "# Visualize the data\n",
    "country_stats.plot(kind='scatter', x=\"GDP per capita\", y='Life satisfaction')\n",
    "plt.show()\n",
    "\n",
    "# Select a linear model\n",
    "model = sklearn.linear_model.LinearRegression()\n",
    "\n",
    "# Train the model\n",
    "model.fit(X, y)\n",
    "\n",
    "# Make a prediction for Cyprus\n",
    "X_new = [[22587]]  # Cyprus' GDP per capita\n",
    "print(model.predict(X_new)) # outputs [[ 5.96242338]]"
   ]
  },
  {
   "cell_type": "markdown",
   "metadata": {},
   "source": [
    "Replacing the Linear Regression model with k-Nearest Neighbors (in this example, k = 3) regression in the previous code is as simple as replacing these two\n",
    "lines:\n",
    "\n",
    "```python\n",
    "import sklearn.linear_model\n",
    "model = sklearn.linear_model.LinearRegression()\n",
    "```\n",
    "\n",
    "with these two:\n",
    "\n",
    "```python\n",
    "import sklearn.neighbors\n",
    "model = sklearn.neighbors.KNeighborsRegressor(n_neighbors=3)\n",
    "```"
   ]
  },
  {
   "cell_type": "code",
   "execution_count": 6,
   "metadata": {},
   "outputs": [
    {
     "name": "stdout",
     "output_type": "stream",
     "text": [
      "[[5.76666667]]\n"
     ]
    }
   ],
   "source": [
    "# Select a 3-Nearest Neighbors regression model\n",
    "import sklearn.neighbors\n",
    "model1 = sklearn.neighbors.KNeighborsRegressor(n_neighbors=3)\n",
    "\n",
    "# Train the model\n",
    "model1.fit(X,y)\n",
    "\n",
    "# Make a prediction for Cyprus\n",
    "print(model1.predict(X_new)) # outputs [[5.76666667]]\n"
   ]
  },
  {
   "cell_type": "markdown",
   "metadata": {},
   "source": [
    "#### Summary\n",
    "- We studies the data\n",
    "- We selected a model\n",
    "- We trained it on the training data\n",
    "- Finally, we applied the model to make predictions on new cases (***inference***), hoping that this model "
   ]
  },
  {
   "cell_type": "markdown",
   "metadata": {},
   "source": []
  },
  {
   "cell_type": "markdown",
   "metadata": {},
   "source": []
  },
  {
   "cell_type": "markdown",
   "metadata": {},
   "source": []
  },
  {
   "cell_type": "markdown",
   "metadata": {},
   "source": []
  },
  {
   "cell_type": "markdown",
   "metadata": {},
   "source": []
  },
  {
   "cell_type": "markdown",
   "metadata": {},
   "source": []
  },
  {
   "cell_type": "markdown",
   "metadata": {},
   "source": []
  },
  {
   "cell_type": "markdown",
   "metadata": {},
   "source": []
  },
  {
   "cell_type": "markdown",
   "metadata": {},
   "source": []
  },
  {
   "cell_type": "markdown",
   "metadata": {},
   "source": []
  }
 ],
 "metadata": {
  "kernelspec": {
   "display_name": "Python 3",
   "language": "python",
   "name": "python3"
  },
  "language_info": {
   "codemirror_mode": {
    "name": "ipython",
    "version": 3
   },
   "file_extension": ".py",
   "mimetype": "text/x-python",
   "name": "python",
   "nbconvert_exporter": "python",
   "pygments_lexer": "ipython3",
   "version": "3.8.3"
  }
 },
 "nbformat": 4,
 "nbformat_minor": 4
}
