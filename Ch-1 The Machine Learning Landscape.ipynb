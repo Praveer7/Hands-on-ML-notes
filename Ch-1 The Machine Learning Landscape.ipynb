{
 "cells": [
  {
   "cell_type": "markdown",
   "metadata": {},
   "source": [
    "# Chapter-1\n",
    "\n",
    "# THE MACHINE LEARNING LANDSCAPE"
   ]
  },
  {
   "cell_type": "markdown",
   "metadata": {},
   "source": [
    "### Chapter Overview\n",
    "\n",
    "- What is ML?\n",
    "- Why use ML?\n",
    "- Types of ML systems\n",
    "    - Supervised v/s Unsupervised\n",
    "    - Online v/s Batch\n",
    "    - Instance-based v/s Model-based\n",
    "- Workflow of a typical ML project\n",
    "- Main challenges of ML\n",
    "- Testing & Validating (evaluate & fine-tune an ML system)"
   ]
  },
  {
   "cell_type": "markdown",
   "metadata": {},
   "source": [
    "## What is Machine Learning?\n",
    "(ML Definitions)"
   ]
  },
  {
   "cell_type": "markdown",
   "metadata": {},
   "source": [
    "1. ML is the science (art) of programming computers so they can learn from data.\n",
    "\n",
    "\n",
    "2. ML is the field of study that gives computers the ability to learn without being explicitly programmed. (Arthur Samuel, 1959)\n",
    "\n",
    "\n",
    "3. A computer program is said to learn from experience E with respect to some task T and some performance measure P, if its performance on T, as measured by P, improves with experience E. (Tom Mitchell, 1997)"
   ]
  },
  {
   "cell_type": "markdown",
   "metadata": {},
   "source": [
    "- **Training set**: The examples that the system uses to learn. \n",
    "- Each training example is called a **training instance (or sample)\n",
    "\n",
    "\n",
    "- In above definition:   \n",
    "**T** = task  \n",
    "**E** = experience = training data  \n",
    "**P** = performance measure to be defined (e.g: Accuracy)"
   ]
  },
  {
   "cell_type": "markdown",
   "metadata": {},
   "source": []
  },
  {
   "cell_type": "markdown",
   "metadata": {},
   "source": []
  },
  {
   "cell_type": "markdown",
   "metadata": {},
   "source": []
  },
  {
   "cell_type": "markdown",
   "metadata": {},
   "source": []
  },
  {
   "cell_type": "markdown",
   "metadata": {},
   "source": []
  },
  {
   "cell_type": "markdown",
   "metadata": {},
   "source": []
  },
  {
   "cell_type": "markdown",
   "metadata": {},
   "source": []
  },
  {
   "cell_type": "markdown",
   "metadata": {},
   "source": []
  },
  {
   "cell_type": "markdown",
   "metadata": {},
   "source": []
  },
  {
   "cell_type": "markdown",
   "metadata": {},
   "source": []
  },
  {
   "cell_type": "markdown",
   "metadata": {},
   "source": []
  },
  {
   "cell_type": "markdown",
   "metadata": {},
   "source": []
  }
 ],
 "metadata": {
  "kernelspec": {
   "display_name": "Python 3",
   "language": "python",
   "name": "python3"
  },
  "language_info": {
   "codemirror_mode": {
    "name": "ipython",
    "version": 3
   },
   "file_extension": ".py",
   "mimetype": "text/x-python",
   "name": "python",
   "nbconvert_exporter": "python",
   "pygments_lexer": "ipython3",
   "version": "3.8.3"
  }
 },
 "nbformat": 4,
 "nbformat_minor": 4
}
